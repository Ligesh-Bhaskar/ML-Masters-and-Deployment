{
 "cells": [
  {
   "cell_type": "markdown",
   "metadata": {},
   "source": [
    "# TASK 1"
   ]
  },
  {
   "cell_type": "markdown",
   "metadata": {},
   "source": [
    "<font color=blue>**Question 1.1: Write a Python Program to implement your own myreduce() function which works exactly like\n",
    "Python's built-in function reduce()**</font>"
   ]
  },
  {
   "cell_type": "code",
   "execution_count": 29,
   "metadata": {},
   "outputs": [
    {
     "data": {
      "text/plain": [
       "220"
      ]
     },
     "execution_count": 29,
     "metadata": {},
     "output_type": "execute_result"
    }
   ],
   "source": [
    "def my_reduce(function,sequence):\n",
    "    output = sequence[0]\n",
    "    for i in sequence[1:]:\n",
    "        output = function(output,i)\n",
    "    return output\n",
    "\n",
    "\n",
    "# checking the my_reduce function\n",
    "\n",
    "l = [10,30,40,85,15,40]\n",
    "my_reduce(lambda m,n: m+n, l)"
   ]
  },
  {
   "cell_type": "markdown",
   "metadata": {},
   "source": [
    "**The Output Screenshot is here:**\n",
    "\n",
    "<img src=\"files\\A2_T1.1.png\">"
   ]
  },
  {
   "cell_type": "markdown",
   "metadata": {},
   "source": [
    "<font color=blue>**Question 1.2: Write a Python program to implement your own myfilter() function which works exactly like\n",
    "Python's built-in function filter()**</font>"
   ]
  },
  {
   "cell_type": "code",
   "execution_count": 26,
   "metadata": {},
   "outputs": [
    {
     "data": {
      "text/plain": [
       "[24, 28, 32, 60, 80]"
      ]
     },
     "execution_count": 26,
     "metadata": {},
     "output_type": "execute_result"
    }
   ],
   "source": [
    "def my_filter(function,list):\n",
    "    result =[]\n",
    "    \n",
    "    for i in list:\n",
    "        if function(i):\n",
    "            result.append(function(i))\n",
    "            \n",
    "    return result\n",
    "\n",
    "\n",
    "# checking the my_filter function:\n",
    "\n",
    "l = [12, 18,15,13,17,19,24,28,30,26,32,60,80]\n",
    "\n",
    "def above_20_multiple_4(i):\n",
    "  \n",
    "    if (i % 4 == 0) and (i > 20):        \n",
    "        return i\n",
    "    \n",
    "    \n",
    "my_filter(above_20_multiple_4,l)"
   ]
  },
  {
   "cell_type": "markdown",
   "metadata": {},
   "source": [
    "**The Output Screenshot is here:**\n",
    "\n",
    "<img src=\"files\\A2_T1.2.png\">"
   ]
  },
  {
   "cell_type": "markdown",
   "metadata": {},
   "source": [
    "<font color=blue>**Question 2: Implement List comprehensions to produce the following lists.\n",
    "Write List comprehensions to produce the following Lists**</font>"
   ]
  },
  {
   "cell_type": "code",
   "execution_count": 45,
   "metadata": {},
   "outputs": [
    {
     "name": "stdout",
     "output_type": "stream",
     "text": [
      "['A', 'C', 'A', 'D', 'G', 'I', 'L', 'D']\n"
     ]
    }
   ],
   "source": [
    "collection = \"ACADGILD\"\n",
    "list_1 = [i for i in collection]\n",
    "print (list_1)"
   ]
  },
  {
   "cell_type": "markdown",
   "metadata": {},
   "source": [
    "**The Output Screenshot is here:**\n",
    "\n",
    "<img src=\"files\\A2_T1.22.a.png\">"
   ]
  },
  {
   "cell_type": "code",
   "execution_count": 21,
   "metadata": {},
   "outputs": [
    {
     "name": "stdout",
     "output_type": "stream",
     "text": [
      "['x', 'xx', 'xxx', 'xxxx', 'y', 'yy', 'yyy', 'yyyy', 'z', 'zz', 'zzz', 'zzzz']\n"
     ]
    }
   ],
   "source": [
    "collection = ['x', 'y', 'z']\n",
    "list_2 = [element*i for element in collection for i in range(1,5)]\n",
    "print(list_2)\n"
   ]
  },
  {
   "cell_type": "markdown",
   "metadata": {},
   "source": [
    "**The Output Screenshot is here:**\n",
    "\n",
    "<img src=\"files\\A2_T1.22.b.png\">"
   ]
  },
  {
   "cell_type": "code",
   "execution_count": 9,
   "metadata": {},
   "outputs": [
    {
     "name": "stdout",
     "output_type": "stream",
     "text": [
      "['x', 'y', 'z', 'xx', 'yy', 'zz', 'xxx', 'yyy', 'zzz', 'xxxx', 'yyyy', 'zzzz']\n"
     ]
    }
   ],
   "source": [
    "collection = ['x', 'y', 'z']\n",
    "list_3 = [element*i for i in range(1,5) for element in collection]\n",
    "print(list_3)"
   ]
  },
  {
   "cell_type": "markdown",
   "metadata": {},
   "source": [
    "**The Output Screenshot is here:**\n",
    "\n",
    "<img src=\"files\\A2_T1.22.c.png\">"
   ]
  },
  {
   "cell_type": "code",
   "execution_count": 11,
   "metadata": {},
   "outputs": [
    {
     "name": "stdout",
     "output_type": "stream",
     "text": [
      "[[2], [3], [4], [3], [4], [5], [4], [5], [6]]\n"
     ]
    }
   ],
   "source": [
    "collection = [2, 3, 4]\n",
    "list_4 = [[element+i] for element in collection for i in range(3)]\n",
    "print(list_4)\n"
   ]
  },
  {
   "cell_type": "markdown",
   "metadata": {},
   "source": [
    "**The Output Screenshot is here:**\n",
    "\n",
    "<img src=\"files\\A2_T1.22.d.png\">"
   ]
  },
  {
   "cell_type": "code",
   "execution_count": 15,
   "metadata": {},
   "outputs": [
    {
     "name": "stdout",
     "output_type": "stream",
     "text": [
      "[[2, 3, 4, 5], [3, 4, 5, 6], [4, 5, 6, 7], [5, 6, 7, 8]]\n"
     ]
    }
   ],
   "source": [
    "collection = [2, 3, 4, 5]\n",
    "list_5 = [[element+i for element in collection] for i in range(4)]\n",
    "print(list_5)"
   ]
  },
  {
   "cell_type": "markdown",
   "metadata": {},
   "source": [
    "**The Output Screenshot is here:**\n",
    "\n",
    "<img src=\"files\\A2_T1.22.e.png\">"
   ]
  },
  {
   "cell_type": "code",
   "execution_count": 19,
   "metadata": {},
   "outputs": [
    {
     "name": "stdout",
     "output_type": "stream",
     "text": [
      "[(1, 1), (1, 2), (1, 3), (2, 1), (2, 2), (2, 3), (3, 1), (3, 2), (3, 3)]\n"
     ]
    }
   ],
   "source": [
    "collection = [1, 2, 3]\n",
    "list_6 = [(i, j) for i in collection for j in collection]\n",
    "print(list_6)"
   ]
  },
  {
   "cell_type": "markdown",
   "metadata": {},
   "source": [
    "**The Output Screenshot is here:**\n",
    "\n",
    "<img src=\"files\\A2_T1.22.f.png\">"
   ]
  },
  {
   "cell_type": "markdown",
   "metadata": {},
   "source": [
    "<font color=blue>**Question 3: Implement a function longestWord() that takes a list of words and returns the longest one.**</font>"
   ]
  },
  {
   "cell_type": "code",
   "execution_count": 42,
   "metadata": {},
   "outputs": [
    {
     "name": "stdout",
     "output_type": "stream",
     "text": [
      "Hey, User Give me a List of Words : Accuracy, Freedom, Chemistry, Education, Inspiration, Achieve\n",
      "The Longest Word in your List is :  Inspiration\n"
     ]
    }
   ],
   "source": [
    "def longest_word():\n",
    "    inp = input('Hey, User Give me a List of Words : ')\n",
    "    words = inp.split(\",\")\n",
    "    \n",
    "    output = []\n",
    "    \n",
    "    for i in range(0,len(words)):\n",
    "        output.append(len(words[i]))\n",
    "    \n",
    "    print(\"The Longest Word in your List is :\", words[output.index(max(output))])\n",
    "    \n",
    "longest_word()"
   ]
  },
  {
   "cell_type": "markdown",
   "metadata": {},
   "source": [
    "**The Output Screenshot is here:**\n",
    "\n",
    "<img src=\"files\\A2_T1.3.png\">"
   ]
  },
  {
   "cell_type": "markdown",
   "metadata": {},
   "source": [
    "# TASK 2"
   ]
  },
  {
   "cell_type": "markdown",
   "metadata": {},
   "source": [
    "<font color=blue>**Question 1.1: Write a Python Program (with class concepts) to find the area of the triangle using the below formula.**</font>\n",
    "\n",
    "<font color=blue>**area = (s*(s-a)*(s-b)*(s-c)) ** 0.5**</font>\n",
    "\n",
    "<font color=blue>**Function to take the length of the sides of triangle from user should be defined in the parent class and function to calculate the area should be defined in subclass.**</font>\n"
   ]
  },
  {
   "cell_type": "code",
   "execution_count": 20,
   "metadata": {},
   "outputs": [
    {
     "name": "stdout",
     "output_type": "stream",
     "text": [
      "Length of side a :12\n",
      "Length of side b :14\n",
      "Length of side c :20\n",
      "s = 23.0\n",
      "Area of the Triangle = 82.6499\n"
     ]
    }
   ],
   "source": [
    "class Triangle:\n",
    "    def __init__(self,a,b,c):\n",
    "        self.a = float(a)\n",
    "        self.b = float(b)\n",
    "        self.c = float(c)\n",
    "        self.s = (float(a)+float(b)+float(c))/2\n",
    "        \n",
    "        \n",
    "class Area(Triangle):\n",
    "    def __init__(self):\n",
    "        super().__init__(a,b,c)\n",
    "        self.area = round(((self.s*(self.s-self.a)*(self.s-self.b)*(self.s-self.c))**0.5),4)\n",
    "    \n",
    "\n",
    "    \n",
    "a = input(\"Length of side a :\")\n",
    "b = input(\"Length of side b :\")\n",
    "c= input(\"Length of side c :\")\n",
    "calc1 = Triangle(a,b,c)\n",
    "print('s =',calc1.s)\n",
    "\n",
    "calc2 = Area()\n",
    "print(\"Area of the Triangle =\", calc2.area)\n"
   ]
  },
  {
   "cell_type": "markdown",
   "metadata": {},
   "source": [
    "**The Output Screenshot is here:**\n",
    "\n",
    "<img src=\"files\\A2_T2.1.png\">"
   ]
  },
  {
   "cell_type": "markdown",
   "metadata": {},
   "source": [
    "<font color=blue>**Question 1.2: Write a function filter_long_words() that takes a list of words and an integer n and returns the list of words that are longer than n.**</font>"
   ]
  },
  {
   "cell_type": "code",
   "execution_count": 31,
   "metadata": {},
   "outputs": [
    {
     "data": {
      "text/plain": [
       "['Inspiration', 'Accuracy', 'Mathematics', 'Computer']"
      ]
     },
     "execution_count": 31,
     "metadata": {},
     "output_type": "execute_result"
    }
   ],
   "source": [
    "def filter_long_word(list,n):\n",
    "    words = []\n",
    "    for i in range(len(list)):\n",
    "        if len(list[i]) > n:\n",
    "            words.append(list[i])\n",
    "    return words\n",
    "\n",
    "\n",
    "list=['Indian', 'Nature', 'Inspiration', 'Freedom', 'Accuracy', 'Mathematics', 'Computer']\n",
    "\n",
    "filter_long_word(list,7)"
   ]
  },
  {
   "cell_type": "markdown",
   "metadata": {},
   "source": [
    "**The Output Screenshot is here:**\n",
    "\n",
    "<img src=\"files\\A2_T2.2.png\">"
   ]
  },
  {
   "cell_type": "markdown",
   "metadata": {},
   "source": [
    "<font color=blue>**Question 2.1: Write a Python program using function concept that maps list of words into a list of integers representing the lengths of the corresponding words.**</font>\n",
    "\n",
    "<font color=blue>**Hint: If a list [ ab,cde,erty] is passed on to the python function output should come as [2,3,4], Here 2,3 and 4 are the lengths of the words in the list.**</font>"
   ]
  },
  {
   "cell_type": "code",
   "execution_count": 26,
   "metadata": {},
   "outputs": [
    {
     "name": "stdout",
     "output_type": "stream",
     "text": [
      "['Hello', 'Indian', 'Secular', 'Curious', 'Imagination']\n"
     ]
    },
    {
     "data": {
      "text/plain": [
       "[5, 6, 7, 7, 11]"
      ]
     },
     "execution_count": 26,
     "metadata": {},
     "output_type": "execute_result"
    }
   ],
   "source": [
    "def words_integer(words):\n",
    "    return [len(word) for word in words]\n",
    "\n",
    "words = ['Hello','Indian','Secular','Curious','Imagination']\n",
    "print(words)\n",
    "words_integer(words)"
   ]
  },
  {
   "cell_type": "markdown",
   "metadata": {},
   "source": [
    "**The Output Screenshot is here:**\n",
    "\n",
    "<img src=\"files\\A2_T2.3.png\">"
   ]
  },
  {
   "cell_type": "markdown",
   "metadata": {},
   "source": [
    "<font color=blue>**Question 2.2: Write a Python function which takes a character (i.e. a string of length 1) and returns True if it is a vowel, False otherwise.**</font>"
   ]
  },
  {
   "cell_type": "code",
   "execution_count": 32,
   "metadata": {},
   "outputs": [
    {
     "name": "stdout",
     "output_type": "stream",
     "text": [
      "Give a string of Length one :i\n"
     ]
    },
    {
     "data": {
      "text/plain": [
       "True"
      ]
     },
     "execution_count": 32,
     "metadata": {},
     "output_type": "execute_result"
    }
   ],
   "source": [
    "def check_vowels():\n",
    "    c = input(\"Give a string of Length one :\")\n",
    "    vowels = ('a', 'e', 'i','o', 'u')\n",
    "    if c in vowels:\n",
    "        return True\n",
    "    return False\n",
    "\n",
    "check_vowels()\n",
    "    "
   ]
  },
  {
   "cell_type": "markdown",
   "metadata": {},
   "source": [
    "**The Output Screenshot is here:**\n",
    "\n",
    "<img src=\"files\\A2_T2.4.png\">"
   ]
  }
 ],
 "metadata": {
  "kernelspec": {
   "display_name": "Python 3",
   "language": "python",
   "name": "python3"
  },
  "language_info": {
   "codemirror_mode": {
    "name": "ipython",
    "version": 3
   },
   "file_extension": ".py",
   "mimetype": "text/x-python",
   "name": "python",
   "nbconvert_exporter": "python",
   "pygments_lexer": "ipython3",
   "version": "3.7.4"
  }
 },
 "nbformat": 4,
 "nbformat_minor": 2
}
