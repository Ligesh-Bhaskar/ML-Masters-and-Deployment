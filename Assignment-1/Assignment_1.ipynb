{
 "cells": [
  {
   "cell_type": "markdown",
   "metadata": {},
   "source": [
    "# TASK 1\n",
    "<font color=blue>**Question 1: Install Jupyter notebook and run the first program and share the screenshot of the output.**</font>"
   ]
  },
  {
   "cell_type": "code",
   "execution_count": 13,
   "metadata": {},
   "outputs": [
    {
     "name": "stdout",
     "output_type": "stream",
     "text": [
      "Tell me the Value of N: 101\n",
      "[0, 2, 4, 6, 8, 10, 12, 14, 16, 18, 20, 22, 24, 26, 28, 30, 32, 34, 36, 38, 40, 42, 44, 46, 48, 50, 52, 54, 56, 58, 60, 62, 64, 66, 68, 70, 72, 74, 76, 78, 80, 82, 84, 86, 88, 90, 92, 94, 96, 98, 100]\n",
      "The Sum of Even Number in E is 2550.0\n"
     ]
    }
   ],
   "source": [
    "N = int(input('Tell me the Value of N: '))\n",
    "sum = 0.0\n",
    "E = [i for i in range(0,N) if (i % 2 == 0)]\n",
    "print(E)\n",
    "for i in E:\n",
    "    sum = sum + i\n",
    "print('The Sum of Even Number in E is', sum)"
   ]
  },
  {
   "cell_type": "markdown",
   "metadata": {},
   "source": [
    "**The Output Screenshot is here:**\n",
    "\n",
    "<img src=\"files\\T1.1.png\">"
   ]
  },
  {
   "cell_type": "markdown",
   "metadata": {},
   "source": [
    "<font color=blue>**Question 2: Write a program which will find all such numbers which are divisible by 7 but are not a multiple of 5, between 2000 and 3200 (both included). The numbers obtained should be printed in a comma-separated sequence on a single line.**</font>"
   ]
  },
  {
   "cell_type": "code",
   "execution_count": 28,
   "metadata": {
    "scrolled": true
   },
   "outputs": [
    {
     "name": "stdout",
     "output_type": "stream",
     "text": [
      "2002,2009,2016,2023,2037,2044,2051,2058,2072,2079,2086,2093,2107,2114,2121,2128,2142,2149,2156,2163,2177,2184,2191,2198,2212,2219,2226,2233,2247,2254,2261,2268,2282,2289,2296,2303,2317,2324,2331,2338,2352,2359,2366,2373,2387,2394,2401,2408,2422,2429,2436,2443,2457,2464,2471,2478,2492,2499,2506,2513,2527,2534,2541,2548,2562,2569,2576,2583,2597,2604,2611,2618,2632,2639,2646,2653,2667,2674,2681,2688,2702,2709,2716,2723,2737,2744,2751,2758,2772,2779,2786,2793,2807,2814,2821,2828,2842,2849,2856,2863,2877,2884,2891,2898,2912,2919,2926,2933,2947,2954,2961,2968,2982,2989,2996,3003,3017,3024,3031,3038,3052,3059,3066,3073,3087,3094,3101,3108,3122,3129,3136,3143,3157,3164,3171,3178,3192,3199 "
     ]
    }
   ],
   "source": [
    "R = list(range(2000, 3201))\n",
    "new = []\n",
    "for i in R:\n",
    "    if (i % 7 == 0):\n",
    "        if (i % 5 == 0):\n",
    "            continue\n",
    "        new.append(i)\n",
    "print(*new, sep= \",\" ,end=\" \")"
   ]
  },
  {
   "cell_type": "markdown",
   "metadata": {},
   "source": [
    "**The Output Screenshot is here:**\n",
    "\n",
    "<img src=\"files/T1.2.png\">"
   ]
  },
  {
   "cell_type": "markdown",
   "metadata": {},
   "source": [
    "<font color=blue>**Question 3: Write a Python program to accept the user's first and last name and then getting them printed in the the reverse order with a space between first name and last name.**</font>"
   ]
  },
  {
   "cell_type": "code",
   "execution_count": 7,
   "metadata": {},
   "outputs": [
    {
     "name": "stdout",
     "output_type": "stream",
     "text": [
      "First Name: Ligesh\n",
      "Last Name: Bhaskar\n",
      "hsegiL  raksahB\n"
     ]
    }
   ],
   "source": [
    "User_firstname = input(\"First Name: \")\n",
    "User_lastname = input(\"Last Name: \")\n",
    "name1 = User_firstname[: :-1]\n",
    "name2 = User_lastname[: :-1]\n",
    "print(name1,'',name2)"
   ]
  },
  {
   "cell_type": "markdown",
   "metadata": {},
   "source": [
    "**The Output Screenshot is here:**\n",
    "\n",
    "<img src=\"files\\T1.3.png\">"
   ]
  },
  {
   "cell_type": "markdown",
   "metadata": {},
   "source": [
    "<font color=blue>**Question 4: Write a Python program to find the volume of a sphere with diameter 12 cm.**</font>\n",
    "    \n",
    "**<font color=blue>  Formula: V=4/3 * π * r<sup>3</sup>**</font>"
   ]
  },
  {
   "cell_type": "code",
   "execution_count": 19,
   "metadata": {},
   "outputs": [
    {
     "name": "stdout",
     "output_type": "stream",
     "text": [
      "The Volume of the Sphere is 904.7786842338603\n"
     ]
    }
   ],
   "source": [
    "import math\n",
    "pi = math.pi\n",
    "d = 12 # Diameter of the Sphere\n",
    "r = d/2 # radius of sphere\n",
    "# Volume of the Sphere is given by,\n",
    "V = (4/3)*pi*(r**3)\n",
    "print('The Volume of the Sphere is', V)"
   ]
  },
  {
   "cell_type": "markdown",
   "metadata": {},
   "source": [
    "**The Output Screenshot is here:**\n",
    "\n",
    "<img src=\"files\\T1.4.png\">"
   ]
  },
  {
   "cell_type": "markdown",
   "metadata": {},
   "source": [
    "# TASK 2\n",
    "\n",
    "<font color=blue>**Question 1: Write a program which accepts a sequence of comma-separated numbers from console and\n",
    "generate a list.**</font>"
   ]
  },
  {
   "cell_type": "code",
   "execution_count": 9,
   "metadata": {},
   "outputs": [
    {
     "name": "stdout",
     "output_type": "stream",
     "text": [
      "14,78,178,84,007,998,248,845\n",
      "['14', '78', '178', '84', '007', '998', '248', '845']\n"
     ]
    }
   ],
   "source": [
    "numbers = (input())\n",
    "sequence = numbers.split(',')\n",
    "output = list(sequence)\n",
    "print(output)"
   ]
  },
  {
   "cell_type": "markdown",
   "metadata": {},
   "source": [
    "**The Output Screenshot is here:**\n",
    "\n",
    "<img src=\"files\\T2.1.png\">"
   ]
  },
  {
   "cell_type": "markdown",
   "metadata": {},
   "source": [
    "<font color=blue>**Question 2: Create the below pattern using nested for loop in Python.**</font>\n",
    "<img src=\"files\\q2.png\">"
   ]
  },
  {
   "cell_type": "code",
   "execution_count": 14,
   "metadata": {},
   "outputs": [
    {
     "name": "stdout",
     "output_type": "stream",
     "text": [
      "* \r\n",
      "* * \r\n",
      "* * * \r\n",
      "* * * * \r\n",
      "* * * * * \r\n",
      "* * * * \r\n",
      "* * * \r\n",
      "* * \r\n",
      "* \r\n",
      "\r\n"
     ]
    }
   ],
   "source": [
    "for i in range(0,5):\n",
    "    for j in range(0,i+1):\n",
    "        print(\"*\",'',end=\"\")\n",
    "    print(\"\\r\")\n",
    "for k in range(5,0,-1):\n",
    "    for l in range(0,k-1):\n",
    "        print(\"*\",'',end=\"\")\n",
    "    print(\"\\r\")"
   ]
  },
  {
   "cell_type": "markdown",
   "metadata": {},
   "source": [
    "**The Output Screenshot is here:**\n",
    "\n",
    "<img src=\"files\\T2.2.png\">"
   ]
  },
  {
   "cell_type": "markdown",
   "metadata": {},
   "source": [
    "<font color=blue>**Question 3: Write a Python program to reverse a word after accepting the input from the user.**</font>\n",
    "\n",
    "<font color=blue>**Sample Output:**</font></font>\n",
    "\n",
    "<font color=blue>**Input word: AcadGild**</font>\n",
    "\n",
    "<font color=blue>**Output: dilGdacA**</font>"
   ]
  },
  {
   "cell_type": "code",
   "execution_count": 11,
   "metadata": {},
   "outputs": [
    {
     "name": "stdout",
     "output_type": "stream",
     "text": [
      "input word: Attitude\n",
      "edutittA\n"
     ]
    }
   ],
   "source": [
    "word = input(\"input word: \")\n",
    "output = word[::-1]\n",
    "print(output)"
   ]
  },
  {
   "cell_type": "markdown",
   "metadata": {},
   "source": [
    "**The Output Screenshot is here:**\n",
    "\n",
    "<img src=\"files\\T2.3.png\">"
   ]
  },
  {
   "cell_type": "markdown",
   "metadata": {},
   "source": [
    "<font color=blue>**Question 4: Write a Python Program to print the given string in the format specified in the sample output.**</font>\n",
    "\n",
    "<font color=blue>**WE, THE PEOPLE OF INDIA, having solemnly resolved to constitute India into a SOVEREIGN, SOCIALIST, SECULAR, DEMOCRATIC REPUBLIC and to secure to all its citizens**</font>\n",
    "\n",
    "<font color=blue>**Sample Output:**</font>\n",
    "\n",
    "<font color=blue>**WE, THE PEOPLE OF INDIA,**</font>\n",
    "    \n",
    "<font color=blue> **&emsp;&emsp;having solemnly resolved to constitute India into a SOVEREIGN, !**</font>\n",
    "\n",
    "<font color=blue>**&emsp;&emsp;&emsp;&emsp;SOCIALIST, SECULAR, DEMOCRATIC REPUBLIC**</font>\n",
    "\n",
    "<font color=blue>**&emsp;&emsp;&emsp;&emsp;&nbsp;and to secure to all its citizens**</font>"
   ]
  },
  {
   "cell_type": "code",
   "execution_count": 18,
   "metadata": {},
   "outputs": [
    {
     "name": "stdout",
     "output_type": "stream",
     "text": [
      "WE, THE PEOPLE OF INDIA,\n",
      "\thaving solemnly resolved to constitute India into a SOVEREIGN,!\n",
      "\t\tSOCIALIST, SECULAR, DEMOCRATIC REPUBLIC\n",
      "\t\t and to secure to all its citizens\n"
     ]
    }
   ],
   "source": [
    "print(\"WE, THE PEOPLE OF INDIA,\\n\\thaving solemnly resolved to constitute India into a SOVEREIGN,!\\n\\t\\tSOCIALIST, SECULAR, DEMOCRATIC REPUBLIC\\n\\t\\t and to secure to all its citizens\")"
   ]
  },
  {
   "cell_type": "markdown",
   "metadata": {},
   "source": [
    "**The Output Screenshot is here:**\n",
    "\n",
    "<img src=\"files\\T2.4.png\">"
   ]
  },
  {
   "cell_type": "code",
   "execution_count": null,
   "metadata": {},
   "outputs": [],
   "source": []
  }
 ],
 "metadata": {
  "kernelspec": {
   "display_name": "Python 3",
   "language": "python",
   "name": "python3"
  },
  "language_info": {
   "codemirror_mode": {
    "name": "ipython",
    "version": 3
   },
   "file_extension": ".py",
   "mimetype": "text/x-python",
   "name": "python",
   "nbconvert_exporter": "python",
   "pygments_lexer": "ipython3",
   "version": "3.7.4"
  }
 },
 "nbformat": 4,
 "nbformat_minor": 2
}
